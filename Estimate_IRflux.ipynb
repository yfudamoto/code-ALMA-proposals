{
 "cells": [
  {
   "cell_type": "markdown",
   "metadata": {},
   "source": [
    "from IPython.core.display import display, HTML\n",
    "\n",
    "\n",
    "## Estimating IR flux from IR luminosity\n",
    "*made by Y. Fudamoto*\n",
    "\n",
    "Currently two methods are available in this code:\n",
    "- Bethermin+15 model\n",
    "- Optically thin modified blackbody\n",
    "\n",
    "For both methods, conversion factors are pre-calculated and stored in pickles.\n",
    "Please download the pickles from <a href=\"https://www.dropbox.com/sh/d6mq8j8ovu840e5/AABFm9KeV5Qkv5LTiKwbDNZBa?dl=0\">here</a>.\n",
    "***"
   ]
  },
  {
   "cell_type": "markdown",
   "metadata": {},
   "source": [
    "### Bethermin+15 Model\n",
    "First, you need to load libraries and a pre-calculated pickle file."
   ]
  },
  {
   "cell_type": "code",
   "execution_count": null,
   "metadata": {},
   "outputs": [],
   "source": [
    "import numpy as np\n",
    "from astropy.cosmology import FlatLambdaCDM\n",
    "from astropy import constants\n",
    "import pickle\n",
    "cosmo = FlatLambdaCDM(H0=70, Om0=0.3, Tcmb0=2.725)\n",
    "\n",
    "Jy2cgs = 1.0e-23\n",
    "\n",
    "insav_Bethermin =   './SED_pickles/Bethermin15_grid.pickle'\n",
    "with open(insav_Bethermin,'rb') as handle:\n",
    "    sed_B15_dict = pickle.load(handle)"
   ]
  },
  {
   "cell_type": "markdown",
   "metadata": {},
   "source": [
    "__INPUTS__<br>\n",
    "\n",
    "redshift = redshift<br>\n",
    "U = dimension less average radiation field. See original paper (U=50 is for ALPINE at z~4-6, normal star-forming galaxies).<br>\n",
    "rest_wavelength = rest-frame wavelength in __μm__ of the flux you want (e.g., 158 for \\[CII\\] observations.)<br>\n",
    "IR_luminosity = IR luminosity in L_sun\n",
    "\n",
    "__Output__<br>\n",
    "flux in mJy"
   ]
  },
  {
   "cell_type": "code",
   "execution_count": 1,
   "metadata": {},
   "outputs": [],
   "source": [
    "def flux_Bethermin(redshift, U, rest_wavelength, IR_luminosity):\n",
    "    wavelength_sed   = sed_B15_dict['lambda']\n",
    "    Umean_sed        = sed_B15_dict['Umean']\n",
    "    nuLnu_sed        =   sed_B15_dict['nuLnu_MS_arr']\n",
    "\n",
    "    # Select SED depending on Umean\n",
    "    arg  = np.where(Umean_sed == U)[0][0]\n",
    "\n",
    "    nuLnu_select = nuLnu_sed[arg]\n",
    "\n",
    "    arg_wl = np.min(np.where(wavelength_sed >= rest_wavelength))\n",
    "\n",
    "    # This is \"nuLnu/LIR\"\n",
    "    factor  =   nuLnu_select[arg_wl] \n",
    "    \n",
    "    # --- Followings calculte fnu [mJy] from input LIR, factor, redshift, wavelength\n",
    "    nu_obs = constants.c.cgs.value / ( rest_wavelength * 1.0e-4 * (1.0 + redshift))\n",
    "    nuLnu = IR_luminosity  * constants.L_sun.cgs.value * factor\n",
    "    Lnu = nuLnu / nu_obs\n",
    "    fnu = Lnu / (4 * np.pi * (cosmo.luminosity_distance(redshift).cgs.value)**2. )\n",
    "    fnu_mJy = fnu/Jy2cgs * 1.0e+3\n",
    "\n",
    "    return np.array(fnu_mJy)"
   ]
  },
  {
   "cell_type": "markdown",
   "metadata": {},
   "source": [
    "__Example__\n",
    "This is for the DEIMOS_COSMOS_873756, first one listed in the table B.1 of <a href=\"https://ui.adsabs.harvard.edu/abs/2020A%26A...643A...2B/abstract\">Bethermin+2020</a>.\n",
    "\n"
   ]
  },
  {
   "cell_type": "code",
   "execution_count": 2,
   "metadata": {},
   "outputs": [
    {
     "name": "stdout",
     "output_type": "stream",
     "text": [
      "1.2871783865225892\n"
     ]
    }
   ],
   "source": [
    "flux= flux_Bethermin(4.5457,50,158,10**12.26)\n",
    "print(flux)"
   ]
  },
  {
   "cell_type": "markdown",
   "metadata": {},
   "source": [
    "Original measured flux of DEIMOS_COSMOS_873756 is 1.355mJy. So my code gives 5% smaller value. <br>\n",
    "The difference seems to come from various small differences: mostly from different wavelength, ALPINE's continuum is slightly off from 158um. <br>\n",
    "But, 5% should be ok enough.\n",
    "***"
   ]
  },
  {
   "cell_type": "markdown",
   "metadata": {},
   "source": [
    "### Modified Blackbody\n",
    "For modified black body, I currently prepared pre-calculated conversion factors for dust temperature ranging 20K to 80K using three different β values (dust emissivity index).<br>\n",
    "Pickles are separeted based on beta used. So, please choose pickle for beta you want.<br>\n",
    "I just use beta=1.8 for default.\n"
   ]
  },
  {
   "cell_type": "markdown",
   "metadata": {},
   "source": [
    "First, you need to load libraries and a pre-calculated pickle file.\n",
    "__Choose pickle file depending on beta you want to use__"
   ]
  },
  {
   "cell_type": "code",
   "execution_count": 5,
   "metadata": {},
   "outputs": [],
   "source": [
    "import numpy as np\n",
    "from astropy.cosmology import FlatLambdaCDM\n",
    "from astropy import constants\n",
    "import pickle\n",
    "cosmo = FlatLambdaCDM(H0=70, Om0=0.3, Tcmb0=2.725)\n",
    "\n",
    "\n",
    "Jy2cgs = 1.0e-23\n",
    "\n",
    "insav_MBB =   './SED_pickles/MBB_grid_beta1.8.pickle'\n",
    "with open(insav_MBB,'rb') as handle:\n",
    "    sed_finegrid_dict = pickle.load(handle)"
   ]
  },
  {
   "cell_type": "markdown",
   "metadata": {},
   "source": [
    "__INPUTS__<br>\n",
    "\n",
    "redshift = redshift<br>\n",
    "dust_T = Dust temperature you want to use: ranging from 20K to 80K.<br>\n",
    "rest_wavelength = rest-frame wavelength in __μm__ of the flux you want (e.g., 158 for \\[CII\\] observations.)<br>\n",
    "IR_luminosity = IR luminosity in L_sun\n",
    "\n",
    "__Outout__<br>\n",
    "flux in mJy"
   ]
  },
  {
   "cell_type": "code",
   "execution_count": 6,
   "metadata": {},
   "outputs": [],
   "source": [
    "def flux_MBB(redshift, dust_T, rest_wavelength, IR_luminosity):\n",
    "    wavelength_sed   = sed_finegrid_dict['lambda']\n",
    "    dust_T_sed        = sed_finegrid_dict['dust_T']\n",
    "    nuLnu_sed        =   sed_finegrid_dict['nuLnu_Lsun']\n",
    "\n",
    "    # Select SED depending on Umean\n",
    "    arg  = np.where(dust_T_sed == dust_T)[0][0]\n",
    "\n",
    "    nuLnu_select = nuLnu_sed[:,arg]\n",
    "\n",
    "    arg_wl = np.min(np.where(wavelength_sed >= rest_wavelength))\n",
    "\n",
    "    # This is \"nuLnu/LIR\"\n",
    "    factor  =   nuLnu_select[arg_wl] \n",
    "\n",
    "    # --- Followings calculte fnu [mJy] from input LIR, factor, redshift, wavelength\n",
    "    nu_obs = constants.c.cgs.value / ( rest_wavelength * 1.0e-4 * (1.0 + redshift))\n",
    "    nuLnu = IR_luminosity  * constants.L_sun.cgs.value * factor\n",
    "    Lnu = nuLnu / nu_obs\n",
    "    fnu = Lnu / (4 * np.pi * (cosmo.luminosity_distance(redshift).cgs.value)**2. )\n",
    "    fnu_mJy = fnu/Jy2cgs * 1.0e+3\n",
    "\n",
    "    return np.array(fnu_mJy)"
   ]
  },
  {
   "cell_type": "markdown",
   "metadata": {},
   "source": [
    "__Example__"
   ]
  },
  {
   "cell_type": "code",
   "execution_count": 7,
   "metadata": {},
   "outputs": [
    {
     "name": "stdout",
     "output_type": "stream",
     "text": [
      "1.344486229093409\n"
     ]
    }
   ],
   "source": [
    "flux= flux_Bethermin(4.5457,45,158,10**12.26)\n",
    "print(flux)"
   ]
  }
 ],
 "metadata": {
  "interpreter": {
   "hash": "ac2eaa0ea0ebeafcc7822e65e46aa9d4f966f30b695406963e145ea4a91cd4fc"
  },
  "kernelspec": {
   "display_name": "Python 3.9.1 64-bit",
   "language": "python",
   "name": "python3"
  },
  "language_info": {
   "codemirror_mode": {
    "name": "ipython",
    "version": 3
   },
   "file_extension": ".py",
   "mimetype": "text/x-python",
   "name": "python",
   "nbconvert_exporter": "python",
   "pygments_lexer": "ipython3",
   "version": "3.9.1"
  },
  "orig_nbformat": 4
 },
 "nbformat": 4,
 "nbformat_minor": 2
}
